{
 "cells": [
  {
   "cell_type": "markdown",
   "metadata": {},
   "source": [
    "# Bitcoin graph analysis with pyspark"
   ]
  },
  {
   "cell_type": "markdown",
   "metadata": {},
   "source": [
    "## Objective"
   ]
  },
  {
   "cell_type": "markdown",
   "metadata": {},
   "source": [
    "In this notebook, I explored ways to analyze a large graph using PySpark's functionalities"
   ]
  },
  {
   "cell_type": "markdown",
   "metadata": {},
   "source": [
    "This code runs on Databricks' free-tier DataFrame API. <br>\n",
    "The dbc file located in the directory contains the source code of thie notebook. <br>\n",
    "Details on how to set up the API can be found at : https://docs.google.com/document/d/e/2PACX-1vR9XytsxrXNpUVm1VBX3v1JwerfAMK97v_9Wy6GFNCucxd5Izgu7lmj9CFLIDDWBjN7NgRVm4pZJNj9/pub"
   ]
  },
  {
   "cell_type": "code",
   "execution_count": 3,
   "metadata": {},
   "outputs": [
    {
     "data": {
      "text/html": [
       "<style scoped>\n",
       "  .ansiout {\n",
       "    display: block;\n",
       "    unicode-bidi: embed;\n",
       "    white-space: pre-wrap;\n",
       "    word-wrap: break-word;\n",
       "    word-break: break-all;\n",
       "    font-family: \"Source Code Pro\", \"Menlo\", monospace;;\n",
       "    font-size: 13px;\n",
       "    color: #555;\n",
       "    margin-left: 4px;\n",
       "    line-height: 19px;\n",
       "  }\n",
       "</style>\n",
       "<div class=\"ansiout\"></div>"
      ]
     },
     "metadata": {},
     "output_type": "display_data"
    }
   ],
   "source": [
    "from pyspark.sql import SparkSession\n",
    "from pyspark.sql import functions as F\n",
    "from pyspark.sql.functions import udf, col\n",
    "from pyspark.sql.functions import desc\n",
    "from pyspark.sql.functions import asc\n",
    "from pyspark import SparkContext\n",
    "from pyspark.sql.types import *\n"
   ]
  },
  {
   "cell_type": "markdown",
   "metadata": {},
   "source": [
    "### Data Preparation"
   ]
  },
  {
   "cell_type": "code",
   "execution_count": 5,
   "metadata": {},
   "outputs": [
    {
     "data": {
      "text/html": [
       "<style scoped>\n",
       "  .ansiout {\n",
       "    display: block;\n",
       "    unicode-bidi: embed;\n",
       "    white-space: pre-wrap;\n",
       "    word-wrap: break-word;\n",
       "    word-break: break-all;\n",
       "    font-family: \"Source Code Pro\", \"Menlo\", monospace;;\n",
       "    font-size: 13px;\n",
       "    color: #555;\n",
       "    margin-left: 4px;\n",
       "    line-height: 19px;\n",
       "  }\n",
       "</style>\n",
       "<div class=\"ansiout\">number of rows before drop_duplicates() 32040\n",
       "number of rows after drop_duplicates() 32029\n",
       "+------+------+------+\n",
       "source|target|weight|\n",
       "+------+------+------+\n",
       "     1|   882|     1|\n",
       "    13|     2|     2|\n",
       "    35|  2215|     1|\n",
       "    39|    44|     1|\n",
       "    51|  5948|     1|\n",
       "    53|    45|     2|\n",
       "    60|   340|     1|\n",
       "    65|    35|     2|\n",
       "   104|   705|     4|\n",
       "   104|  1018|     1|\n",
       "+------+------+------+\n",
       "only showing top 10 rows\n",
       "\n",
       "</div>"
      ]
     },
     "metadata": {},
     "output_type": "display_data"
    }
   ],
   "source": [
    "# Create a Spark Session\n",
    "spark = SparkSession.builder.getOrCreate()\n",
    "\n",
    "# Read CSV file\n",
    "#df = spark.read.csv(\"/FileStore/tables/examplegraph.csv\", header = False, inferSchema = True)\n",
    "df = spark.read.csv(\"/FileStore/tables/bitcoinotc.csv\", header = False, inferSchema = True)\n",
    "\n",
    "# count the number of rows\n",
    "print(\"number of rows before drop_duplicates()\" , df.select(\"_c0\").count())\n",
    "\n",
    "# Eliminate duplicate rows\n",
    "df = df.dropDuplicates()\n",
    "\n",
    "# counte the number of rows\n",
    "print(\"number of rows after drop_duplicates()\", df.select(\"_c0\").count())\n",
    "\n",
    "# change the column names\n",
    "df = df.select(col('_c0').alias('source'),col('_c1').alias('target'),col('_c2').alias('weight'))\n",
    "# show the table\n",
    "df.show(10)\n"
   ]
  },
  {
   "cell_type": "markdown",
   "metadata": {},
   "source": [
    "d\n",
    " ### Task 1: Filter the graph such that only nodes containing an edge weight >= 5 are preserved."
   ]
  },
  {
   "cell_type": "code",
   "execution_count": 7,
   "metadata": {},
   "outputs": [
    {
     "data": {
      "text/html": [
       "<style scoped>\n",
       "  .ansiout {\n",
       "    display: block;\n",
       "    unicode-bidi: embed;\n",
       "    white-space: pre-wrap;\n",
       "    word-wrap: break-word;\n",
       "    word-break: break-all;\n",
       "    font-family: \"Source Code Pro\", \"Menlo\", monospace;;\n",
       "    font-size: 13px;\n",
       "    color: #555;\n",
       "    margin-left: 4px;\n",
       "    line-height: 19px;\n",
       "  }\n",
       "</style>\n",
       "<div class=\"ansiout\"></div>"
      ]
     },
     "metadata": {},
     "output_type": "display_data"
    }
   ],
   "source": [
    "# Filter out the rows that are less than 5 weight values\n",
    "df = df.filter(df.weight >= 5)\n"
   ]
  },
  {
   "cell_type": "markdown",
   "metadata": {},
   "source": [
    "## Task : Analyze the graph to find the nodes with the highest weighted-in-degree, weighted-out-degree, and weighted-total-degree using DataFrame operations."
   ]
  },
  {
   "cell_type": "markdown",
   "metadata": {},
   "source": [
    "### Sub-Task 1: find node with highest weighted-in-degree, if two or more nodes have the same weighted-in-degree, report the one with the lowest node id"
   ]
  },
  {
   "cell_type": "code",
   "execution_count": 10,
   "metadata": {},
   "outputs": [
    {
     "data": {
      "text/html": [
       "<style scoped>\n",
       "  .ansiout {\n",
       "    display: block;\n",
       "    unicode-bidi: embed;\n",
       "    white-space: pre-wrap;\n",
       "    word-wrap: break-word;\n",
       "    word-break: break-all;\n",
       "    font-family: \"Source Code Pro\", \"Menlo\", monospace;;\n",
       "    font-size: 13px;\n",
       "    color: #555;\n",
       "    margin-left: 4px;\n",
       "    line-height: 19px;\n",
       "  }\n",
       "</style>\n",
       "<div class=\"ansiout\">+------+------------------+\n",
       "target|weighted_in_degree|\n",
       "+------+------------------+\n",
       "     1|               542|\n",
       "  2642|               423|\n",
       "    25|               395|\n",
       "    35|               339|\n",
       "     7|               286|\n",
       "  4172|               283|\n",
       "  1810|               230|\n",
       "  1018|               209|\n",
       "  2028|               202|\n",
       "  1386|               164|\n",
       "+------+------------------+\n",
       "only showing top 10 rows\n",
       "\n",
       "+------+------------------+\n",
       "target|weighted_in_degree|\n",
       "+------+------------------+\n",
       "     1|               542|\n",
       "+------+------------------+\n",
       "only showing top 1 row\n",
       "\n",
       "</div>"
      ]
     },
     "metadata": {},
     "output_type": "display_data"
    }
   ],
   "source": [
    "# Group by the target and order by 1. sum of the weights in a descreasinig manner 2. node in an increasing manner\n",
    "df_in = df.groupBy(\"target\").agg({\"weight\":\"sum\"}).withColumnRenamed(\"sum(weight)\",\"weighted_in_degree\").orderBy(desc(\"weighted_in_degree\"),asc(\"target\"))\n",
    "\n",
    "# show the top 10 rows of the weighted-in-degree\n",
    "df_in.show(10)\n",
    "\n",
    "# show the top 1 row of the weighted-in-degree\n",
    "df_in.show(1)\n",
    "\n",
    "# Store the values\n",
    "top_in_node, top_in_weight = df_in.collect()[0]\n"
   ]
  },
  {
   "cell_type": "markdown",
   "metadata": {},
   "source": [
    "### Sub-Task 2: find node with highest weighted-out-degree, if two or more nodes have the same weighted-out-degree, report the one with the lowest node id"
   ]
  },
  {
   "cell_type": "code",
   "execution_count": 12,
   "metadata": {},
   "outputs": [
    {
     "data": {
      "text/html": [
       "<style scoped>\n",
       "  .ansiout {\n",
       "    display: block;\n",
       "    unicode-bidi: embed;\n",
       "    white-space: pre-wrap;\n",
       "    word-wrap: break-word;\n",
       "    word-break: break-all;\n",
       "    font-family: \"Source Code Pro\", \"Menlo\", monospace;;\n",
       "    font-size: 13px;\n",
       "    color: #555;\n",
       "    margin-left: 4px;\n",
       "    line-height: 19px;\n",
       "  }\n",
       "</style>\n",
       "<div class=\"ansiout\">+------+-------------------+\n",
       "source|weighted_out_degree|\n",
       "+------+-------------------+\n",
       "   257|                248|\n",
       "     1|                230|\n",
       "  2028|                220|\n",
       "  3744|                200|\n",
       "  4172|                176|\n",
       "  2642|                166|\n",
       "  1201|                164|\n",
       "  4291|                157|\n",
       "   905|                132|\n",
       "  1018|                130|\n",
       "+------+-------------------+\n",
       "only showing top 10 rows\n",
       "\n",
       "+------+-------------------+\n",
       "source|weighted_out_degree|\n",
       "+------+-------------------+\n",
       "   257|                248|\n",
       "+------+-------------------+\n",
       "only showing top 1 row\n",
       "\n",
       "</div>"
      ]
     },
     "metadata": {},
     "output_type": "display_data"
    }
   ],
   "source": [
    "# Group by the target and order by 1. sum of the weights in a descreasinig manner 2. node in an increasing manner\n",
    "df_out = df.groupBy(\"source\").agg({\"weight\":\"sum\"}).withColumnRenamed(\"sum(weight)\",\"weighted_out_degree\").orderBy(desc(\"weighted_out_degree\"), asc(\"source\"))\n",
    "\n",
    "# show the top 10 rows of the weighted-out-degree\n",
    "df_out.show(10)\n",
    "\n",
    "# show the top row of the weighted-out-degree\n",
    "df_out.show(1)\n",
    "\n",
    "# store the values\n",
    "top_out_node, top_out_weight = df_out.collect()[0]"
   ]
  },
  {
   "cell_type": "markdown",
   "metadata": {},
   "source": [
    "### Sub-Task 3: find node with highest weighted-total degree, if two or more nodes have the same weighted-total-degree, report the one with the lowest node id"
   ]
  },
  {
   "cell_type": "code",
   "execution_count": 14,
   "metadata": {},
   "outputs": [
    {
     "data": {
      "text/html": [
       "<style scoped>\n",
       "  .ansiout {\n",
       "    display: block;\n",
       "    unicode-bidi: embed;\n",
       "    white-space: pre-wrap;\n",
       "    word-wrap: break-word;\n",
       "    word-break: break-all;\n",
       "    font-family: \"Source Code Pro\", \"Menlo\", monospace;;\n",
       "    font-size: 13px;\n",
       "    color: #555;\n",
       "    margin-left: 4px;\n",
       "    line-height: 19px;\n",
       "  }\n",
       "</style>\n",
       "<div class=\"ansiout\">+------+------------------+------+-------------------+\n",
       "target|weighted_in_degree|source|weighted_out_degree|\n",
       "+------+------------------+------+-------------------+\n",
       "     1|               542|     1|                230|\n",
       "  2642|               423|  2642|                166|\n",
       "    35|               339|    35|                 57|\n",
       "     7|               286|     7|                121|\n",
       "  4172|               283|  4172|                176|\n",
       "+------+------------------+------+-------------------+\n",
       "only showing top 5 rows\n",
       "\n",
       "+------+------------------+------+-------------------+----------+\n",
       "target|weighted_in_degree|source|weighted_out_degree|weight_sum|\n",
       "+------+------------------+------+-------------------+----------+\n",
       "     1|               542|     1|                230|       772|\n",
       "+------+------------------+------+-------------------+----------+\n",
       "only showing top 1 row\n",
       "\n",
       "</div>"
      ]
     },
     "metadata": {},
     "output_type": "display_data"
    }
   ],
   "source": [
    "# Join the above two dataframes \n",
    "df_join = df_in.join(df_out, df_in.target == df_out.source)\n",
    "\n",
    "# Show the joined dataframe\n",
    "df_join.show(5)\n",
    "\n",
    "# Create a new column with the sum of the two weights\n",
    "df_total = df_join.withColumn('weight_sum', df_join.weighted_in_degree + df_join.weighted_out_degree).orderBy(desc(\"weight_sum\"), asc(\"target\"))\n",
    "\n",
    "# Show the highest weightest-total degree\n",
    "df_total.show(1)\n",
    "\n",
    "# Store the values\n",
    "top_tot_node, top_tot_weight = df_total.select('target','weight_sum').collect()[0]"
   ]
  },
  {
   "cell_type": "markdown",
   "metadata": {},
   "source": [
    "### Sub-Task 4: Store the values into a dataframe"
   ]
  },
  {
   "cell_type": "code",
   "execution_count": 16,
   "metadata": {},
   "outputs": [
    {
     "data": {
      "text/html": [
       "<style scoped>\n",
       "  .ansiout {\n",
       "    display: block;\n",
       "    unicode-bidi: embed;\n",
       "    white-space: pre-wrap;\n",
       "    word-wrap: break-word;\n",
       "    word-break: break-all;\n",
       "    font-family: \"Source Code Pro\", \"Menlo\", monospace;;\n",
       "    font-size: 13px;\n",
       "    color: #555;\n",
       "    margin-left: 4px;\n",
       "    line-height: 19px;\n",
       "  }\n",
       "</style>\n",
       "<div class=\"ansiout\">Out[7]: &#34;\\n  Create a dataframe to store your results\\n  Schema: 3 columns, named: &#39;v&#39;, &#39;d&#39;, &#39;c&#39; where:\\n  &#39;v&#39; : vertex id\\n  &#39;d&#39; : degree calculation (an integer value.  one row with highest weighted-in-degree, a row w/ highest weighted-out-degree, a row w/ highest weighted-total-degree )\\n  &#39;c&#39; : category of degree, containing one of three string values:\\n                                                  &#39;i&#39; : weighted-in-degree\\n                                                  &#39;o&#39; : weighted-out-degree                                                \\n                                                  &#39;t&#39; : weighted-total-degree\\n  - Your output should contain exactly three rows.  \\n  - Your output should contain exactly the column order specified.\\n  - The order of rows does not matter.\\n\\n  A correct output would be:\\n\\n  v,d,c\\n  4,15,is\\n  2,20,o\\n  2,30,t\\n\\n  whereas:\\n  - Node 2 has highest weighted-out-degree with a value of 20\\n  - Node 4 has highest weighted-in-degree with a value of 15\\n  - Node 2 has highest weighted-total-degree with a value of 30\\n\\n&#34;</div>"
      ]
     },
     "metadata": {},
     "output_type": "display_data"
    }
   ],
   "source": [
    "\"\"\"\n",
    "  Create a dataframe to store your results\n",
    "  Schema: 3 columns, named: 'v', 'd', 'c' where:\n",
    "  'v' : vertex id\n",
    "  'd' : degree calculation (an integer value.  one row with highest weighted-in-degree, a row w/ highest weighted-out-degree, a row w/ highest weighted-total-degree )\n",
    "  'c' : category of degree, containing one of three string values:\n",
    "                                                  'i' : weighted-in-degree\n",
    "                                                  'o' : weighted-out-degree                                                \n",
    "                                                  't' : weighted-total-degree\n",
    "  - Your output should contain exactly three rows.  \n",
    "  - Your output should contain exactly the column order specified.\n",
    "  - The order of rows does not matter.\n",
    "\n",
    "  A correct output would be:\n",
    "\n",
    "  v,d,c\n",
    "  4,15,is\n",
    "  2,20,o\n",
    "  2,30,t\n",
    "\n",
    "  whereas:\n",
    "  - Node 2 has highest weighted-out-degree with a value of 20\n",
    "  - Node 4 has highest weighted-in-degree with a value of 15\n",
    "  - Node 2 has highest weighted-total-degree with a value of 30\n",
    "\n",
    "\"\"\""
   ]
  },
  {
   "cell_type": "code",
   "execution_count": 17,
   "metadata": {},
   "outputs": [
    {
     "data": {
      "text/html": [
       "<style scoped>\n",
       "  .ansiout {\n",
       "    display: block;\n",
       "    unicode-bidi: embed;\n",
       "    white-space: pre-wrap;\n",
       "    word-wrap: break-word;\n",
       "    word-break: break-all;\n",
       "    font-family: \"Source Code Pro\", \"Menlo\", monospace;;\n",
       "    font-size: 13px;\n",
       "    color: #555;\n",
       "    margin-left: 4px;\n",
       "    line-height: 19px;\n",
       "  }\n",
       "</style>\n",
       "<div class=\"ansiout\"></div>"
      ]
     },
     "metadata": {},
     "output_type": "display_data"
    }
   ],
   "source": [
    "# Define a sparkcontext\n",
    "if not sc:\n",
    "  sc = SparkContext(appName = \"Answer\")\n",
    "\n",
    "# Create a field\n",
    "field = [StructField(\"v\",IntegerType(), True), StructField(\"d\", IntegerType(), True), StructField(\"c\", StringType(), True)]\n",
    "\n",
    "# Create a schema\n",
    "schema = StructType(field)\n",
    "\n",
    "# Create a dataframe using the above field\n",
    "answer_df = sqlContext.createDataFrame(sc.emptyRDD(), schema)\n",
    "\n",
    "# Create the lists of answers\n",
    "ans1 = [(top_in_node, top_in_weight, 'i')]\n",
    "ans2 = [(top_out_node, top_out_weight, 'o')]\n",
    "ans3 = [(top_tot_node, top_tot_weight,' t')]\n",
    "answers = [ans1, ans2, ans3]\n",
    "\n",
    "for ans in answers:\n",
    "  rdd = sc.parallelize(ans)\n",
    "  answer_df_temp = spark.createDataFrame(rdd, schema)\n",
    "  answer_df = answer_df.union(answer_df_temp)\n",
    "  \n"
   ]
  },
  {
   "cell_type": "code",
   "execution_count": 18,
   "metadata": {},
   "outputs": [
    {
     "data": {
      "text/html": [
       "<style scoped>\n",
       "  .ansiout {\n",
       "    display: block;\n",
       "    unicode-bidi: embed;\n",
       "    white-space: pre-wrap;\n",
       "    word-wrap: break-word;\n",
       "    word-break: break-all;\n",
       "    font-family: \"Source Code Pro\", \"Menlo\", monospace;;\n",
       "    font-size: 13px;\n",
       "    color: #555;\n",
       "    margin-left: 4px;\n",
       "    line-height: 19px;\n",
       "  }\n",
       "</style>\n",
       "<div class=\"ansiout\">+---+---+---+\n",
       "  v|  d|  c|\n",
       "+---+---+---+\n",
       "  4| 15|  i|\n",
       "  2| 20|  o|\n",
       "  2| 30|  t|\n",
       "+---+---+---+\n",
       "\n",
       "</div>"
      ]
     },
     "metadata": {},
     "output_type": "display_data"
    }
   ],
   "source": [
    "answer_df.show()"
   ]
  },
  {
   "cell_type": "code",
   "execution_count": 19,
   "metadata": {},
   "outputs": [
    {
     "data": {
      "text/html": [
       "<style scoped>\n",
       "  .ansiout {\n",
       "    display: block;\n",
       "    unicode-bidi: embed;\n",
       "    white-space: pre-wrap;\n",
       "    word-wrap: break-word;\n",
       "    word-break: break-all;\n",
       "    font-family: \"Source Code Pro\", \"Menlo\", monospace;;\n",
       "    font-size: 13px;\n",
       "    color: #555;\n",
       "    margin-left: 4px;\n",
       "    line-height: 19px;\n",
       "  }\n",
       "</style>\n",
       "<div class=\"ansiout\"></div>"
      ]
     },
     "metadata": {},
     "output_type": "display_data"
    }
   ],
   "source": [
    "path = \"/FileStore/tables/answer_bitcoin.csv\"\n",
    "answer_df.write.save(path, format = \"csv\", header = True)"
   ]
  },
  {
   "cell_type": "code",
   "execution_count": 20,
   "metadata": {},
   "outputs": [
    {
     "data": {
      "text/html": [
       "<style scoped>\n",
       "  .ansiout {\n",
       "    display: block;\n",
       "    unicode-bidi: embed;\n",
       "    white-space: pre-wrap;\n",
       "    word-wrap: break-word;\n",
       "    word-break: break-all;\n",
       "    font-family: \"Source Code Pro\", \"Menlo\", monospace;;\n",
       "    font-size: 13px;\n",
       "    color: #555;\n",
       "    margin-left: 4px;\n",
       "    line-height: 19px;\n",
       "  }\n",
       "</style>\n",
       "<div class=\"ansiout\">+---+---+---+\n",
       "  v|  d|  c|\n",
       "+---+---+---+\n",
       "257|248|  o|\n",
       "  1|542|  i|\n",
       "  1|772|  t|\n",
       "+---+---+---+\n",
       "\n",
       "</div>"
      ]
     },
     "metadata": {},
     "output_type": "display_data"
    }
   ],
   "source": [
    "spark.read.csv(path, header = True).show()"
   ]
  }
 ],
 "metadata": {
  "kernelspec": {
   "display_name": "Python 3",
   "language": "python",
   "name": "python3"
  },
  "language_info": {
   "codemirror_mode": {
    "name": "ipython",
    "version": 3
   },
   "file_extension": ".py",
   "mimetype": "text/x-python",
   "name": "python",
   "nbconvert_exporter": "python",
   "pygments_lexer": "ipython3",
   "version": "3.6.9"
  },
  "name": "q2-skeleton",
  "notebookId": 2868169507070024,
  "toc": {
   "base_numbering": 1,
   "nav_menu": {},
   "number_sections": false,
   "sideBar": true,
   "skip_h1_title": false,
   "title_cell": "Table of Contents",
   "title_sidebar": "Contents",
   "toc_cell": false,
   "toc_position": {},
   "toc_section_display": true,
   "toc_window_display": false
  }
 },
 "nbformat": 4,
 "nbformat_minor": 1
}
