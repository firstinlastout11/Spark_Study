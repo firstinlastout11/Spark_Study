{
  "nbformat": 4,
  "nbformat_minor": 0,
  "metadata": {
    "colab": {
      "name": "CS246 - Colab 9.ipynb",
      "provenance": [],
      "collapsed_sections": [],
      "toc_visible": true
    },
    "kernelspec": {
      "name": "python3",
      "display_name": "Python 3"
    }
  },
  "cells": [
    {
      "cell_type": "markdown",
      "metadata": {
        "id": "kPt5q27L5557",
        "colab_type": "text"
      },
      "source": [
        "# CS246 - Colab 9\n",
        "## Studying COVID-19"
      ]
    },
    {
      "cell_type": "markdown",
      "metadata": {
        "id": "p0-YhEpP_Ds-",
        "colab_type": "text"
      },
      "source": [
        "### Setup"
      ]
    },
    {
      "cell_type": "markdown",
      "metadata": {
        "id": "Zsj5WYpR9QId",
        "colab_type": "text"
      },
      "source": [
        "Let's setup Spark on your Colab environment.  Run the cell below!"
      ]
    },
    {
      "cell_type": "code",
      "metadata": {
        "id": "k-qHai2252mI",
        "colab_type": "code",
        "colab": {
          "base_uri": "https://localhost:8080/",
          "height": 904
        },
        "outputId": "d15e1410-56b1-432c-cf10-caa6296f29b4"
      },
      "source": [
        "!pip install pyspark\n",
        "!pip install -U -q PyDrive\n",
        "!apt install openjdk-8-jdk-headless -qq\n",
        "import os\n",
        "os.environ[\"JAVA_HOME\"] = \"/usr/lib/jvm/java-8-openjdk-amd64\""
      ],
      "execution_count": 1,
      "outputs": [
        {
          "output_type": "stream",
          "text": [
            "Collecting pyspark\n",
            "\u001b[?25l  Downloading https://files.pythonhosted.org/packages/8e/b0/bf9020b56492281b9c9d8aae8f44ff51e1bc91b3ef5a884385cb4e389a40/pyspark-3.0.0.tar.gz (204.7MB)\n",
            "\u001b[K     |████████████████████████████████| 204.7MB 65kB/s \n",
            "\u001b[?25hCollecting py4j==0.10.9\n",
            "\u001b[?25l  Downloading https://files.pythonhosted.org/packages/9e/b6/6a4fb90cd235dc8e265a6a2067f2a2c99f0d91787f06aca4bcf7c23f3f80/py4j-0.10.9-py2.py3-none-any.whl (198kB)\n",
            "\u001b[K     |████████████████████████████████| 204kB 45.0MB/s \n",
            "\u001b[?25hBuilding wheels for collected packages: pyspark\n",
            "  Building wheel for pyspark (setup.py) ... \u001b[?25l\u001b[?25hdone\n",
            "  Created wheel for pyspark: filename=pyspark-3.0.0-py2.py3-none-any.whl size=205044184 sha256=e70f0a7aaa5a9f3299abda88f616368bdb9cf187f283fa721aa5b426428e2330\n",
            "  Stored in directory: /root/.cache/pip/wheels/57/27/4d/ddacf7143f8d5b76c45c61ee2e43d9f8492fc5a8e78ebd7d37\n",
            "Successfully built pyspark\n",
            "Installing collected packages: py4j, pyspark\n",
            "Successfully installed py4j-0.10.9 pyspark-3.0.0\n",
            "The following package was automatically installed and is no longer required:\n",
            "  libnvidia-common-440\n",
            "Use 'apt autoremove' to remove it.\n",
            "The following additional packages will be installed:\n",
            "  openjdk-8-jre-headless\n",
            "Suggested packages:\n",
            "  openjdk-8-demo openjdk-8-source libnss-mdns fonts-dejavu-extra\n",
            "  fonts-ipafont-gothic fonts-ipafont-mincho fonts-wqy-microhei\n",
            "  fonts-wqy-zenhei fonts-indic\n",
            "The following NEW packages will be installed:\n",
            "  openjdk-8-jdk-headless openjdk-8-jre-headless\n",
            "0 upgraded, 2 newly installed, 0 to remove and 39 not upgraded.\n",
            "Need to get 35.8 MB of archives.\n",
            "After this operation, 140 MB of additional disk space will be used.\n",
            "Selecting previously unselected package openjdk-8-jre-headless:amd64.\n",
            "(Reading database ... 144579 files and directories currently installed.)\n",
            "Preparing to unpack .../openjdk-8-jre-headless_8u265-b01-0ubuntu2~18.04_amd64.deb ...\n",
            "Unpacking openjdk-8-jre-headless:amd64 (8u265-b01-0ubuntu2~18.04) ...\n",
            "Selecting previously unselected package openjdk-8-jdk-headless:amd64.\n",
            "Preparing to unpack .../openjdk-8-jdk-headless_8u265-b01-0ubuntu2~18.04_amd64.deb ...\n",
            "Unpacking openjdk-8-jdk-headless:amd64 (8u265-b01-0ubuntu2~18.04) ...\n",
            "Setting up openjdk-8-jre-headless:amd64 (8u265-b01-0ubuntu2~18.04) ...\n",
            "update-alternatives: using /usr/lib/jvm/java-8-openjdk-amd64/jre/bin/orbd to provide /usr/bin/orbd (orbd) in auto mode\n",
            "update-alternatives: using /usr/lib/jvm/java-8-openjdk-amd64/jre/bin/servertool to provide /usr/bin/servertool (servertool) in auto mode\n",
            "update-alternatives: using /usr/lib/jvm/java-8-openjdk-amd64/jre/bin/tnameserv to provide /usr/bin/tnameserv (tnameserv) in auto mode\n",
            "Setting up openjdk-8-jdk-headless:amd64 (8u265-b01-0ubuntu2~18.04) ...\n",
            "update-alternatives: using /usr/lib/jvm/java-8-openjdk-amd64/bin/idlj to provide /usr/bin/idlj (idlj) in auto mode\n",
            "update-alternatives: using /usr/lib/jvm/java-8-openjdk-amd64/bin/wsimport to provide /usr/bin/wsimport (wsimport) in auto mode\n",
            "update-alternatives: using /usr/lib/jvm/java-8-openjdk-amd64/bin/jsadebugd to provide /usr/bin/jsadebugd (jsadebugd) in auto mode\n",
            "update-alternatives: using /usr/lib/jvm/java-8-openjdk-amd64/bin/native2ascii to provide /usr/bin/native2ascii (native2ascii) in auto mode\n",
            "update-alternatives: using /usr/lib/jvm/java-8-openjdk-amd64/bin/javah to provide /usr/bin/javah (javah) in auto mode\n",
            "update-alternatives: using /usr/lib/jvm/java-8-openjdk-amd64/bin/clhsdb to provide /usr/bin/clhsdb (clhsdb) in auto mode\n",
            "update-alternatives: using /usr/lib/jvm/java-8-openjdk-amd64/bin/jhat to provide /usr/bin/jhat (jhat) in auto mode\n",
            "update-alternatives: using /usr/lib/jvm/java-8-openjdk-amd64/bin/extcheck to provide /usr/bin/extcheck (extcheck) in auto mode\n",
            "update-alternatives: using /usr/lib/jvm/java-8-openjdk-amd64/bin/hsdb to provide /usr/bin/hsdb (hsdb) in auto mode\n",
            "update-alternatives: using /usr/lib/jvm/java-8-openjdk-amd64/bin/schemagen to provide /usr/bin/schemagen (schemagen) in auto mode\n",
            "update-alternatives: using /usr/lib/jvm/java-8-openjdk-amd64/bin/xjc to provide /usr/bin/xjc (xjc) in auto mode\n",
            "update-alternatives: using /usr/lib/jvm/java-8-openjdk-amd64/bin/wsgen to provide /usr/bin/wsgen (wsgen) in auto mode\n"
          ],
          "name": "stdout"
        }
      ]
    },
    {
      "cell_type": "markdown",
      "metadata": {
        "id": "PUUjUvXe3Sjk",
        "colab_type": "text"
      },
      "source": [
        "Now we authenticate a Google Drive client to download the files we will be processing in our Spark job.\n",
        "\n",
        "**Make sure to follow the interactive instructions.**"
      ]
    },
    {
      "cell_type": "code",
      "metadata": {
        "id": "lRElWs_x2mGh",
        "colab_type": "code",
        "colab": {}
      },
      "source": [
        "from pydrive.auth import GoogleAuth\n",
        "from pydrive.drive import GoogleDrive\n",
        "from google.colab import auth\n",
        "from oauth2client.client import GoogleCredentials\n",
        "\n",
        "# Authenticate and create the PyDrive client\n",
        "auth.authenticate_user()\n",
        "gauth = GoogleAuth()\n",
        "gauth.credentials = GoogleCredentials.get_application_default()\n",
        "drive = GoogleDrive(gauth)"
      ],
      "execution_count": 2,
      "outputs": []
    },
    {
      "cell_type": "code",
      "metadata": {
        "id": "QHsFTGUy2n1c",
        "colab_type": "code",
        "colab": {}
      },
      "source": [
        "id='1qgUxXG2rVDPuTvvoamqDQVNh0DDZ4LUh'\n",
        "downloaded = drive.CreateFile({'id': id})\n",
        "downloaded.GetContentFile('time_series_19-covid-Confirmed.csv')\n",
        "\n",
        "id='1KMR3I0Mz6XHtv5tsjGIIgyLNS0jmniaA'\n",
        "downloaded = drive.CreateFile({'id': id})\n",
        "downloaded.GetContentFile('time_series_19-covid-Deaths.csv')\n",
        "\n",
        "id='1wKgm-A6p6K79hmtDJKRKuK-Cf1kzsIhw'\n",
        "downloaded = drive.CreateFile({'id': id})\n",
        "downloaded.GetContentFile('time_series_19-covid-Recovered.csv')"
      ],
      "execution_count": 3,
      "outputs": []
    },
    {
      "cell_type": "markdown",
      "metadata": {
        "id": "qwtlO4_m_LbQ",
        "colab_type": "text"
      },
      "source": [
        "If you executed the cells above, you should be able to see the dataset we will use for this Colab under the \"Files\" tab on the left panel.\n",
        "\n",
        "Next, we import some of the common libraries needed for our task."
      ]
    },
    {
      "cell_type": "code",
      "metadata": {
        "id": "xbLLdd_BsmJu",
        "colab_type": "code",
        "colab": {}
      },
      "source": [
        "import pandas as pd\n",
        "import numpy as np\n",
        "import matplotlib.pyplot as plt\n",
        "%matplotlib inline\n",
        "\n",
        "import pyspark\n",
        "from pyspark.sql import * \n",
        "from pyspark.sql.types import *\n",
        "from pyspark.sql.functions import *\n",
        "import pyspark.sql.functions as f\n",
        "\n",
        "from pyspark import SparkContext, SparkConf"
      ],
      "execution_count": 40,
      "outputs": []
    },
    {
      "cell_type": "markdown",
      "metadata": {
        "colab_type": "text",
        "id": "BtrJlMBt1Ela"
      },
      "source": [
        "Let's initialize the Spark context."
      ]
    },
    {
      "cell_type": "code",
      "metadata": {
        "colab_type": "code",
        "id": "Vm3sAVeK1EDZ",
        "colab": {}
      },
      "source": [
        "# create the session\n",
        "conf = SparkConf().set(\"spark.ui.port\", \"4050\")\n",
        "\n",
        "# create the context\n",
        "sc = pyspark.SparkContext(conf=conf)\n",
        "spark = SparkSession.builder.getOrCreate()"
      ],
      "execution_count": 5,
      "outputs": []
    },
    {
      "cell_type": "markdown",
      "metadata": {
        "colab_type": "text",
        "id": "YqovskkH1DmC"
      },
      "source": [
        "You can easily check the current version and get the link of the web interface. In the Spark UI, you can monitor the progress of your job and debug the performance bottlenecks (if your Colab is running with a **local runtime**)."
      ]
    },
    {
      "cell_type": "code",
      "metadata": {
        "colab_type": "code",
        "id": "DueQggJc1DDk",
        "colab": {
          "base_uri": "https://localhost:8080/",
          "height": 216
        },
        "outputId": "16d3f045-af0e-45a6-aa38-77ed9990d5dc"
      },
      "source": [
        "spark"
      ],
      "execution_count": 6,
      "outputs": [
        {
          "output_type": "execute_result",
          "data": {
            "text/html": [
              "\n",
              "            <div>\n",
              "                <p><b>SparkSession - in-memory</b></p>\n",
              "                \n",
              "        <div>\n",
              "            <p><b>SparkContext</b></p>\n",
              "\n",
              "            <p><a href=\"http://c697e3cdb673:4050\">Spark UI</a></p>\n",
              "\n",
              "            <dl>\n",
              "              <dt>Version</dt>\n",
              "                <dd><code>v3.0.0</code></dd>\n",
              "              <dt>Master</dt>\n",
              "                <dd><code>local[*]</code></dd>\n",
              "              <dt>AppName</dt>\n",
              "                <dd><code>pyspark-shell</code></dd>\n",
              "            </dl>\n",
              "        </div>\n",
              "        \n",
              "            </div>\n",
              "        "
            ],
            "text/plain": [
              "<pyspark.sql.session.SparkSession at 0x7f1fc12adf60>"
            ]
          },
          "metadata": {
            "tags": []
          },
          "execution_count": 6
        }
      ]
    },
    {
      "cell_type": "markdown",
      "metadata": {
        "colab_type": "text",
        "id": "Iid7lXcG1CY8"
      },
      "source": [
        "If you are running this Colab on the Google hosted runtime, the cell below will create a *ngrok* tunnel which will allow you to still check the Spark UI."
      ]
    },
    {
      "cell_type": "code",
      "metadata": {
        "colab_type": "code",
        "id": "sDnGLVPH1BPQ",
        "colab": {
          "base_uri": "https://localhost:8080/",
          "height": 289
        },
        "outputId": "38cc47c8-a562-4bba-ec34-6ac26d93d51f"
      },
      "source": [
        "!wget https://bin.equinox.io/c/4VmDzA7iaHb/ngrok-stable-linux-amd64.zip\n",
        "!unzip ngrok-stable-linux-amd64.zip\n",
        "get_ipython().system_raw('./ngrok http 4050 &')\n",
        "!curl -s http://localhost:4040/api/tunnels | python3 -c \\\n",
        "    \"import sys, json; print(json.load(sys.stdin)['tunnels'][0]['public_url'])\""
      ],
      "execution_count": 7,
      "outputs": [
        {
          "output_type": "stream",
          "text": [
            "--2020-08-29 05:31:56--  https://bin.equinox.io/c/4VmDzA7iaHb/ngrok-stable-linux-amd64.zip\n",
            "Resolving bin.equinox.io (bin.equinox.io)... 52.5.250.138, 52.206.116.16, 18.214.118.253, ...\n",
            "Connecting to bin.equinox.io (bin.equinox.io)|52.5.250.138|:443... connected.\n",
            "HTTP request sent, awaiting response... 200 OK\n",
            "Length: 13773305 (13M) [application/octet-stream]\n",
            "Saving to: ‘ngrok-stable-linux-amd64.zip’\n",
            "\n",
            "ngrok-stable-linux- 100%[===================>]  13.13M  73.5MB/s    in 0.2s    \n",
            "\n",
            "2020-08-29 05:31:56 (73.5 MB/s) - ‘ngrok-stable-linux-amd64.zip’ saved [13773305/13773305]\n",
            "\n",
            "Archive:  ngrok-stable-linux-amd64.zip\n",
            "  inflating: ngrok                   \n",
            "Traceback (most recent call last):\n",
            "  File \"<string>\", line 1, in <module>\n",
            "IndexError: list index out of range\n"
          ],
          "name": "stdout"
        }
      ]
    },
    {
      "cell_type": "markdown",
      "metadata": {
        "id": "kAYRX2PMm0L6",
        "colab_type": "text"
      },
      "source": [
        "### Data Loading"
      ]
    },
    {
      "cell_type": "markdown",
      "metadata": {
        "id": "7hXdMR6wnEIM",
        "colab_type": "text"
      },
      "source": [
        "In this Colab, we will be analyzing the timeseries data of the Coronavirus COVID-19 Global Cases, collected by Johns Hopkins CSSE.\n",
        "\n",
        "Here you can check a realtime dashboard based on this dataset: [https://www.arcgis.com/apps/opsdashboard/index.html?fbclid=IwAR2hQKsEZ3D38wVtXGryUhP9CG0Z6MYbUM_boPEaV8FBe71wUvDPc65ZG78#/bda7594740fd40299423467b48e9ecf6](https://www.arcgis.com/apps/opsdashboard/index.html?fbclid=IwAR2hQKsEZ3D38wVtXGryUhP9CG0Z6MYbUM_boPEaV8FBe71wUvDPc65ZG78#/bda7594740fd40299423467b48e9ecf6)\n",
        "\n",
        "---\n",
        "\n",
        "\n",
        "\n",
        "*   ```confirmed```: dataframe containing the total number of confirmed COVID-19 cases per day, divided by geographical area\n",
        "*   ```deaths```: dataframe containing the number of deaths per day due to COVID-19, divided by geographical area\n",
        "*   ```recovered```: dataframe containing the number of recoevered patients per day, divided by geographical area\n",
        "\n",
        "\n",
        "\n",
        "\n",
        "\n"
      ]
    },
    {
      "cell_type": "code",
      "metadata": {
        "id": "EUSeIQlNqv6J",
        "colab_type": "code",
        "colab": {}
      },
      "source": [
        "confirmed = spark.read.csv('time_series_19-covid-Confirmed.csv', header=True)\n",
        "deaths = spark.read.csv('time_series_19-covid-Deaths.csv', header=True)\n",
        "recovered = spark.read.csv('time_series_19-covid-Recovered.csv', header=True)"
      ],
      "execution_count": 8,
      "outputs": []
    },
    {
      "cell_type": "code",
      "metadata": {
        "id": "TW9SqABMtG_6",
        "colab_type": "code",
        "colab": {
          "base_uri": "https://localhost:8080/",
          "height": 122
        },
        "outputId": "659516ff-fbc8-4036-fab1-8becc033a026"
      },
      "source": [
        "\n",
        "deaths.take(5)"
      ],
      "execution_count": 10,
      "outputs": [
        {
          "output_type": "execute_result",
          "data": {
            "text/plain": [
              "[Row(Province/State='Anhui', Country/Region='Mainland China', Lat='31.8257', Long='117.2264', 1/22/20='0', 1/23/20='0', 1/24/20='0', 1/25/20='0', 1/26/20='0', 1/27/20='0', 1/28/20='0', 1/29/20='0', 1/30/20='0', 1/31/20='0', 2/1/20='0', 2/2/20='0', 2/3/20='0', 2/4/20='0', 2/5/20='0', 2/6/20='0', 2/7/20='0', 2/8/20='0', 2/9/20='1', 2/10/20='3', 2/11/20='4', 2/12/20='4', 2/13/20='5', 2/14/20='6', 2/15/20='6', 2/16/20='6', 2/17/20='6', 2/18/20='6', 2/19/20='6', 2/20/20='6', 2/21/20='6', 2/22/20='6', 2/23/20='6', 2/24/20='6', 2/25/20='6', 2/26/20='6', 2/27/20='6', 2/28/20='6', 2/29/20='6', 3/1/20='6', 3/2/20='6', 3/3/20='6', 3/4/20='6', 3/5/20='6'),\n",
              " Row(Province/State='Beijing', Country/Region='Mainland China', Lat='40.1824', Long='116.4142', 1/22/20='0', 1/23/20='0', 1/24/20='0', 1/25/20='0', 1/26/20='0', 1/27/20='1', 1/28/20='1', 1/29/20='1', 1/30/20='1', 1/31/20='1', 2/1/20='1', 2/2/20='1', 2/3/20='1', 2/4/20='1', 2/5/20='1', 2/6/20='1', 2/7/20='1', 2/8/20='2', 2/9/20='2', 2/10/20='2', 2/11/20='3', 2/12/20='3', 2/13/20='3', 2/14/20='3', 2/15/20='4', 2/16/20='4', 2/17/20='4', 2/18/20='4', 2/19/20='4', 2/20/20='4', 2/21/20='4', 2/22/20='4', 2/23/20='4', 2/24/20='4', 2/25/20='4', 2/26/20='4', 2/27/20='5', 2/28/20='7', 2/29/20='8', 3/1/20='8', 3/2/20='8', 3/3/20='8', 3/4/20='8', 3/5/20='8'),\n",
              " Row(Province/State='Chongqing', Country/Region='Mainland China', Lat='30.0572', Long='107.874', 1/22/20='0', 1/23/20='0', 1/24/20='0', 1/25/20='0', 1/26/20='0', 1/27/20='0', 1/28/20='0', 1/29/20='0', 1/30/20='0', 1/31/20='0', 2/1/20='1', 2/2/20='2', 2/3/20='2', 2/4/20='2', 2/5/20='2', 2/6/20='2', 2/7/20='2', 2/8/20='2', 2/9/20='2', 2/10/20='2', 2/11/20='3', 2/12/20='3', 2/13/20='4', 2/14/20='5', 2/15/20='5', 2/16/20='5', 2/17/20='5', 2/18/20='5', 2/19/20='5', 2/20/20='6', 2/21/20='6', 2/22/20='6', 2/23/20='6', 2/24/20='6', 2/25/20='6', 2/26/20='6', 2/27/20='6', 2/28/20='6', 2/29/20='6', 3/1/20='6', 3/2/20='6', 3/3/20='6', 3/4/20='6', 3/5/20='6'),\n",
              " Row(Province/State='Fujian', Country/Region='Mainland China', Lat='26.0789', Long='117.9874', 1/22/20='0', 1/23/20='0', 1/24/20='0', 1/25/20='0', 1/26/20='0', 1/27/20='0', 1/28/20='0', 1/29/20='0', 1/30/20='0', 1/31/20='0', 2/1/20='0', 2/2/20='0', 2/3/20='0', 2/4/20='0', 2/5/20='0', 2/6/20='0', 2/7/20='0', 2/8/20='0', 2/9/20='0', 2/10/20='0', 2/11/20='0', 2/12/20='0', 2/13/20='0', 2/14/20='0', 2/15/20='0', 2/16/20='0', 2/17/20='0', 2/18/20='0', 2/19/20='0', 2/20/20='1', 2/21/20='1', 2/22/20='1', 2/23/20='1', 2/24/20='1', 2/25/20='1', 2/26/20='1', 2/27/20='1', 2/28/20='1', 2/29/20='1', 3/1/20='1', 3/2/20='1', 3/3/20='1', 3/4/20='1', 3/5/20='1'),\n",
              " Row(Province/State='Gansu', Country/Region='Mainland China', Lat='36.0611', Long='103.8343', 1/22/20='0', 1/23/20='0', 1/24/20='0', 1/25/20='0', 1/26/20='0', 1/27/20='0', 1/28/20='0', 1/29/20='0', 1/30/20='0', 1/31/20='0', 2/1/20='0', 2/2/20='0', 2/3/20='0', 2/4/20='0', 2/5/20='0', 2/6/20='0', 2/7/20='0', 2/8/20='1', 2/9/20='2', 2/10/20='2', 2/11/20='2', 2/12/20='2', 2/13/20='2', 2/14/20='2', 2/15/20='2', 2/16/20='2', 2/17/20='2', 2/18/20='2', 2/19/20='2', 2/20/20='2', 2/21/20='2', 2/22/20='2', 2/23/20='2', 2/24/20='2', 2/25/20='2', 2/26/20='2', 2/27/20='2', 2/28/20='2', 2/29/20='2', 3/1/20='2', 3/2/20='2', 3/3/20='2', 3/4/20='2', 3/5/20='2')]"
            ]
          },
          "metadata": {
            "tags": []
          },
          "execution_count": 10
        }
      ]
    },
    {
      "cell_type": "code",
      "metadata": {
        "id": "NvyFsE-fLXpg",
        "colab_type": "code",
        "colab": {
          "base_uri": "https://localhost:8080/",
          "height": 867
        },
        "outputId": "2c73488d-c459-405e-bef3-ecd27f89c466"
      },
      "source": [
        "confirmed.printSchema()"
      ],
      "execution_count": 9,
      "outputs": [
        {
          "output_type": "stream",
          "text": [
            "root\n",
            " |-- Province/State: string (nullable = true)\n",
            " |-- Country/Region: string (nullable = true)\n",
            " |-- Lat: string (nullable = true)\n",
            " |-- Long: string (nullable = true)\n",
            " |-- 1/22/20: string (nullable = true)\n",
            " |-- 1/23/20: string (nullable = true)\n",
            " |-- 1/24/20: string (nullable = true)\n",
            " |-- 1/25/20: string (nullable = true)\n",
            " |-- 1/26/20: string (nullable = true)\n",
            " |-- 1/27/20: string (nullable = true)\n",
            " |-- 1/28/20: string (nullable = true)\n",
            " |-- 1/29/20: string (nullable = true)\n",
            " |-- 1/30/20: string (nullable = true)\n",
            " |-- 1/31/20: string (nullable = true)\n",
            " |-- 2/1/20: string (nullable = true)\n",
            " |-- 2/2/20: string (nullable = true)\n",
            " |-- 2/3/20: string (nullable = true)\n",
            " |-- 2/4/20: string (nullable = true)\n",
            " |-- 2/5/20: string (nullable = true)\n",
            " |-- 2/6/20: string (nullable = true)\n",
            " |-- 2/7/20: string (nullable = true)\n",
            " |-- 2/8/20: string (nullable = true)\n",
            " |-- 2/9/20: string (nullable = true)\n",
            " |-- 2/10/20: string (nullable = true)\n",
            " |-- 2/11/20: string (nullable = true)\n",
            " |-- 2/12/20: string (nullable = true)\n",
            " |-- 2/13/20: string (nullable = true)\n",
            " |-- 2/14/20: string (nullable = true)\n",
            " |-- 2/15/20: string (nullable = true)\n",
            " |-- 2/16/20: string (nullable = true)\n",
            " |-- 2/17/20: string (nullable = true)\n",
            " |-- 2/18/20: string (nullable = true)\n",
            " |-- 2/19/20: string (nullable = true)\n",
            " |-- 2/20/20: string (nullable = true)\n",
            " |-- 2/21/20: string (nullable = true)\n",
            " |-- 2/22/20: string (nullable = true)\n",
            " |-- 2/23/20: string (nullable = true)\n",
            " |-- 2/24/20: string (nullable = true)\n",
            " |-- 2/25/20: string (nullable = true)\n",
            " |-- 2/26/20: string (nullable = true)\n",
            " |-- 2/27/20: string (nullable = true)\n",
            " |-- 2/28/20: string (nullable = true)\n",
            " |-- 2/29/20: string (nullable = true)\n",
            " |-- 3/1/20: string (nullable = true)\n",
            " |-- 3/2/20: string (nullable = true)\n",
            " |-- 3/3/20: string (nullable = true)\n",
            " |-- 3/4/20: string (nullable = true)\n",
            " |-- 3/5/20: string (nullable = true)\n",
            "\n"
          ],
          "name": "stdout"
        }
      ]
    },
    {
      "cell_type": "markdown",
      "metadata": {
        "id": "WV45mAMfrmxA",
        "colab_type": "text"
      },
      "source": [
        "### Your Task"
      ]
    },
    {
      "cell_type": "markdown",
      "metadata": {
        "id": "iLLbq024rr9l",
        "colab_type": "text"
      },
      "source": [
        "We are aware of the great deal of stress we are all experiencing because of the spread of the Coronavirus. As such, we decided to conclude our series of Colabs with a **lightweight task** -- given everything you have learned about Spark during the quarter, this Colab should take you just a few minutes to complete.\n",
        "\n",
        "At the same time, we turned this into an opportunity to raise awareness about the extent of the COVID-19 epidemic.\n",
        "\n",
        "[Stay healthy, wash your hands often](https://www.cdc.gov/coronavirus/2019-ncov/about/index.html), and invest the time you saved on this Colab to be emotionally supportive to your friends and family!\n",
        "\n",
        "Signed, *the CS246 teaching staff*"
      ]
    },
    {
      "cell_type": "code",
      "metadata": {
        "id": "4lN6cdGvte7P",
        "colab_type": "code",
        "colab": {}
      },
      "source": [
        "def md5(s):\n",
        "  import hashlib\n",
        "  m = hashlib.md5()\n",
        "  m.update(s.encode())\n",
        "  return m.hexdigest()[:2]"
      ],
      "execution_count": 13,
      "outputs": []
    },
    {
      "cell_type": "code",
      "metadata": {
        "id": "SCbTx2-Etl7c",
        "colab_type": "code",
        "colab": {
          "base_uri": "https://localhost:8080/",
          "height": 35
        },
        "outputId": "1d044b36-da64-42b6-eb01-e36fb8ccfe57"
      },
      "source": [
        "md5('3/1/20')"
      ],
      "execution_count": 16,
      "outputs": [
        {
          "output_type": "execute_result",
          "data": {
            "application/vnd.google.colaboratory.intrinsic+json": {
              "type": "string"
            },
            "text/plain": [
              "'e7'"
            ]
          },
          "metadata": {
            "tags": []
          },
          "execution_count": 16
        }
      ]
    },
    {
      "cell_type": "markdown",
      "metadata": {
        "id": "4wYiCEv_zhVf",
        "colab_type": "text"
      },
      "source": [
        "Consider only the most recent data points in the timeseries, and compute:\n",
        "\n",
        "\n",
        "*   number of confirmed COVID-19 cases across the globe\n",
        "*   number of deaths due to COVID-19 (across the globe)\n",
        "*   number of recovered patients across the globe\n",
        "\n"
      ]
    },
    {
      "cell_type": "code",
      "metadata": {
        "id": "w-Hoy-9Xzf8r",
        "colab_type": "code",
        "colab": {
          "base_uri": "https://localhost:8080/",
          "height": 479
        },
        "outputId": "284e10aa-3c2c-4701-e16d-db05c51bcffa"
      },
      "source": [
        "confirmed.show()\n"
      ],
      "execution_count": 17,
      "outputs": [
        {
          "output_type": "stream",
          "text": [
            "+--------------+--------------+------------------+------------------+-------+-------+-------+-------+-------+-------+-------+-------+-------+-------+------+------+------+------+------+------+------+------+------+-------+-------+-------+-------+-------+-------+-------+-------+-------+-------+-------+-------+-------+-------+-------+-------+-------+-------+-------+-------+------+------+------+------+------+\n",
            "|Province/State|Country/Region|               Lat|              Long|1/22/20|1/23/20|1/24/20|1/25/20|1/26/20|1/27/20|1/28/20|1/29/20|1/30/20|1/31/20|2/1/20|2/2/20|2/3/20|2/4/20|2/5/20|2/6/20|2/7/20|2/8/20|2/9/20|2/10/20|2/11/20|2/12/20|2/13/20|2/14/20|2/15/20|2/16/20|2/17/20|2/18/20|2/19/20|2/20/20|2/21/20|2/22/20|2/23/20|2/24/20|2/25/20|2/26/20|2/27/20|2/28/20|2/29/20|3/1/20|3/2/20|3/3/20|3/4/20|3/5/20|\n",
            "+--------------+--------------+------------------+------------------+-------+-------+-------+-------+-------+-------+-------+-------+-------+-------+------+------+------+------+------+------+------+------+------+-------+-------+-------+-------+-------+-------+-------+-------+-------+-------+-------+-------+-------+-------+-------+-------+-------+-------+-------+-------+------+------+------+------+------+\n",
            "|         Anhui|Mainland China|           31.8257|          117.2264|      1|      9|     15|     39|     60|     70|    106|    152|    200|    237|   297|   340|   408|   480|   530|   591|   665|   733|   779|    830|    860|    889|    910|    934|    950|    962|    973|    982|    986|    987|    988|    989|    989|    989|    989|    989|    989|    990|    990|   990|   990|   990|   990|   990|\n",
            "|       Beijing|Mainland China|           40.1824|          116.4142|     14|     22|     36|     41|     68|     80|     91|    111|    114|    139|   168|   191|   212|   228|   253|   274|   297|   315|   326|    337|    342|    352|    366|    372|    375|    380|    381|    387|    393|    395|    396|    399|    399|    399|    400|    400|    410|    410|    411|   413|   414|   414|   418|   418|\n",
            "|     Chongqing|Mainland China|           30.0572|           107.874|      6|      9|     27|     57|     75|    110|    132|    147|    182|    211|   247|   300|   337|   366|   389|   411|   426|   428|   468|    486|    505|    518|    529|    537|    544|    551|    553|    555|    560|    567|    572|    573|    575|    576|    576|    576|    576|    576|    576|   576|   576|   576|   576|   576|\n",
            "|        Fujian|Mainland China|           26.0789|          117.9874|      1|      5|     10|     18|     35|     59|     80|     84|    101|    120|   144|   159|   179|   194|   205|   215|   224|   239|   250|    261|    267|    272|    279|    281|    285|    287|    290|    292|    293|    293|    293|    293|    293|    293|    294|    294|    296|    296|    296|   296|   296|   296|   296|   296|\n",
            "|         Gansu|Mainland China|           36.0611|          103.8343|      0|      2|      2|      4|      7|     14|     19|     24|     26|     29|    40|    51|    55|    57|    62|    62|    67|    79|    83|     83|     86|     87|     90|     90|     90|     90|     91|     91|     91|     91|     91|     91|     91|     91|     91|     91|     91|     91|     91|    91|    91|    91|    91|   102|\n",
            "|     Guangdong|Mainland China|           23.3417|          113.4244|     26|     32|     53|     78|    111|    151|    207|    277|    354|    436|   535|   632|   725|   813|   895|   970|  1034|  1095|  1131|   1159|   1177|   1219|   1241|   1261|   1294|   1316|   1322|   1328|   1331|   1332|   1333|   1339|   1342|   1345|   1347|   1347|   1347|   1348|   1349|  1349|  1350|  1350|  1350|  1351|\n",
            "|       Guangxi|Mainland China|           23.8298|          108.7881|      2|      5|     23|     23|     36|     46|     51|     58|     78|     87|   100|   111|   127|   139|   150|   168|   172|   183|   195|    210|    215|    222|    222|    226|    235|    237|    238|    242|    244|    245|    246|    249|    249|    251|    252|    252|    252|    252|    252|   252|   252|   252|   252|   252|\n",
            "|       Guizhou|Mainland China|           26.8154|          106.8748|      1|      3|      3|      4|      5|      7|      9|      9|     12|     29|    29|    38|    46|    58|    64|    71|    81|    89|    99|    109|    127|    133|    135|    140|    143|    144|    146|    146|    146|    146|    146|    146|    146|    146|    146|    146|    146|    146|    146|   146|   146|   146|   146|   146|\n",
            "|        Hainan|Mainland China|           19.1959|          109.7453|      4|      5|      8|     19|     22|     33|     40|     43|     46|     52|    62|    64|    72|    80|    99|   106|   117|   124|   131|    138|    144|    157|    157|    159|    162|    162|    163|    163|    168|    168|    168|    168|    168|    168|    168|    168|    168|    168|    168|   168|   168|   168|   168|   168|\n",
            "|         Hebei|Mainland China|           38.0428|          114.5149|      1|      1|      2|      8|     13|     18|     33|     48|     65|     82|    96|   104|   113|   126|   135|   157|   172|   195|   206|    218|    239|    251|    265|    283|    291|    300|    301|    306|    306|    307|    308|    309|    311|    311|    311|    312|    317|    318|    318|   318|   318|   318|   318|   318|\n",
            "|  Heilongjiang|Mainland China|47.861999999999995|          127.7615|      0|      2|      4|      9|     15|     21|     33|     38|     44|     59|    80|    95|   121|   155|   190|   227|   277|   295|   307|    331|    360|    378|    395|    419|    425|    445|    457|    464|    470|    476|    479|    479|    480|    480|    480|    480|    480|    480|    480|   480|   480|   480|   480|   481|\n",
            "|         Henan|Mainland China|33.882020000000004|113.61399999999999|      5|      5|      9|     32|     83|    128|    168|    206|    278|    352|   422|   493|   566|   675|   764|   851|   914|   981|  1033|   1073|   1105|   1135|   1169|   1184|   1212|   1231|   1246|   1257|   1262|   1265|   1267|   1270|   1271|   1271|   1271|   1271|   1272|   1272|   1272|  1272|  1272|  1272|  1272|  1272|\n",
            "|         Hubei|Mainland China|           30.9756|          112.2707|    444|    444|    549|    761|   1058|   1423|   3554|   3554|   4903|   5806|  7153| 11177| 13522| 16678| 19665| 22112| 24953| 27100| 29631|  31728|  33366|  33366|  48206|  54406|  56249|  58182|  59989|  61682|  62031|  62442|  62662|  64084|  64084|  64287|  64786|  65187|  65596|  65914|  66337| 66907| 67103| 67217| 67332| 67466|\n",
            "|         Hunan|Mainland China|           27.6104|          111.7088|      4|      9|     24|     43|     69|    100|    143|    221|    277|    332|   389|   463|   521|   593|   661|   711|   772|   803|   838|    879|    912|    946|    968|    988|   1001|   1004|   1006|   1007|   1008|   1010|   1011|   1013|   1016|   1016|   1016|   1016|   1017|   1017|   1018|  1018|  1018|  1018|  1018|  1018|\n",
            "|Inner Mongolia|Mainland China|           44.0935|          113.9448|      0|      0|      1|      7|      7|     11|     15|     16|     19|     20|    23|    27|    34|    35|    42|    46|    50|    52|    54|     58|     58|     60|     61|     65|     68|     70|     72|     73|     75|     75|     75|     75|     75|     75|     75|     75|     75|     75|     75|    75|    75|    75|    75|    75|\n",
            "|       Jiangsu|Mainland China|           32.9711|           119.455|      1|      5|      9|     18|     33|     47|     70|     99|    129|    168|   202|   236|   271|   308|   341|   373|   408|   439|   468|    492|    515|    543|    570|    593|    604|    617|    626|    629|    631|    631|    631|    631|    631|    631|    631|    631|    631|    631|    631|   631|   631|   631|   631|   631|\n",
            "|       Jiangxi|Mainland China|            27.614|          115.7221|      2|      7|     18|     18|     36|     72|    109|    109|    162|    240|   286|   333|   391|   476|   548|   600|   661|   698|   740|    771|    804|    844|    872|    900|    913|    925|    930|    933|    934|    934|    934|    934|    934|    934|    934|    934|    934|    935|    935|   935|   935|   935|   935|   935|\n",
            "|         Jilin|Mainland China|           43.6661|          126.1923|      0|      1|      3|      4|      4|      6|      8|      9|     14|     14|    17|    23|    31|    42|    54|    59|    65|    69|    78|     80|     81|     83|     84|     86|     88|     89|     89|     89|     90|     91|     91|     91|     91|     93|     93|     93|     93|     93|     93|    93|    93|    93|    93|    93|\n",
            "|      Liaoning|Mainland China|           41.2956|          122.6085|      2|      3|      4|     17|     21|     27|     34|     39|     41|     48|    64|    70|    74|    81|    89|    94|    99|   105|   107|    108|    111|    116|    117|    119|    119|    121|    121|    121|    121|    121|    121|    121|    121|    121|    121|    121|    121|    121|    121|   122|   122|   125|   125|   125|\n",
            "|       Ningxia|Mainland China|           37.2692|          106.1655|      1|      1|      2|      3|      4|      7|     11|     12|     17|     21|    26|    28|    31|    34|    34|    40|    43|    45|    45|     49|     53|     58|     64|     67|     70|     70|     70|     70|     71|     71|     71|     71|     71|     71|     71|     71|     72|     72|     73|    73|    74|    74|    75|    75|\n",
            "+--------------+--------------+------------------+------------------+-------+-------+-------+-------+-------+-------+-------+-------+-------+-------+------+------+------+------+------+------+------+------+------+-------+-------+-------+-------+-------+-------+-------+-------+-------+-------+-------+-------+-------+-------+-------+-------+-------+-------+-------+-------+------+------+------+------+------+\n",
            "only showing top 20 rows\n",
            "\n"
          ],
          "name": "stdout"
        }
      ]
    },
    {
      "cell_type": "code",
      "metadata": {
        "id": "1UdAOhOAuThP",
        "colab_type": "code",
        "colab": {}
      },
      "source": [
        "# Flatmap the number of confirmed cases in different places\n",
        "confirmed_flatten = confirmed.select('3/5/20').rdd.flatMap(lambda x: x).collect()\n",
        "\n",
        "# Flattenmap the number of death cases in different places\n",
        "deaths_flatten = deaths.select('3/5/20').rdd.flatMap(lambda x: x).collect()\n",
        "\n",
        "# Flattenmap the number of recovered cases in different places\n",
        "recovered_flatten = recovered.select('3/5/20').rdd.flatMap(lambda x: x).collect()"
      ],
      "execution_count": 33,
      "outputs": []
    },
    {
      "cell_type": "code",
      "metadata": {
        "id": "PbO2Qg-IvuBe",
        "colab_type": "code",
        "colab": {}
      },
      "source": [
        "def count_total(lst):\n",
        "  # Initialize the total number\n",
        "  tot = 0\n",
        "  # Iterate through all the locations\n",
        "  for num_case in lst:\n",
        "    tot += int(num_case)\n",
        "  return tot"
      ],
      "execution_count": 37,
      "outputs": []
    },
    {
      "cell_type": "code",
      "metadata": {
        "id": "1S1fo5WEv422",
        "colab_type": "code",
        "colab": {
          "base_uri": "https://localhost:8080/",
          "height": 68
        },
        "outputId": "e8fdd1d5-66c4-4a95-e889-aab44ff018b0"
      },
      "source": [
        "print(\"Total num of confirmed cases in the world: {}\".format(count_total(confirmed_flatten)))\n",
        "print(\"Total num of death cases in the world: {}\".format(count_total(deaths_flatten)))\n",
        "print(\"Total num of recovered cases in the world: {}\".format(count_total(recovered_flatten)))\n"
      ],
      "execution_count": 39,
      "outputs": [
        {
          "output_type": "stream",
          "text": [
            "Total num of confirmed cases in the world: 97886\n",
            "Total num of death cases in the world: 3348\n",
            "Total num of recovered cases in the world: 53797\n"
          ],
          "name": "stdout"
        }
      ]
    },
    {
      "cell_type": "markdown",
      "metadata": {
        "id": "yahkAHoS0HuU",
        "colab_type": "text"
      },
      "source": [
        "Consider only the most recent data points in the timeseries, and filter out the geographical locations where less than 50 cases have been confirmed.\n",
        "For the areas still taken into consideration after the filtering step, compute the ratio between number of recovered patients and number of confirmed cases."
      ]
    },
    {
      "cell_type": "code",
      "metadata": {
        "id": "_fCsNj3nwekn",
        "colab_type": "code",
        "colab": {
          "base_uri": "https://localhost:8080/",
          "height": 479
        },
        "outputId": "d7655845-a2a3-4c0f-c7cd-ab11934d72a3"
      },
      "source": [
        "confirmed.show()"
      ],
      "execution_count": 41,
      "outputs": [
        {
          "output_type": "stream",
          "text": [
            "+--------------+--------------+------------------+------------------+-------+-------+-------+-------+-------+-------+-------+-------+-------+-------+------+------+------+------+------+------+------+------+------+-------+-------+-------+-------+-------+-------+-------+-------+-------+-------+-------+-------+-------+-------+-------+-------+-------+-------+-------+-------+------+------+------+------+------+\n",
            "|Province/State|Country/Region|               Lat|              Long|1/22/20|1/23/20|1/24/20|1/25/20|1/26/20|1/27/20|1/28/20|1/29/20|1/30/20|1/31/20|2/1/20|2/2/20|2/3/20|2/4/20|2/5/20|2/6/20|2/7/20|2/8/20|2/9/20|2/10/20|2/11/20|2/12/20|2/13/20|2/14/20|2/15/20|2/16/20|2/17/20|2/18/20|2/19/20|2/20/20|2/21/20|2/22/20|2/23/20|2/24/20|2/25/20|2/26/20|2/27/20|2/28/20|2/29/20|3/1/20|3/2/20|3/3/20|3/4/20|3/5/20|\n",
            "+--------------+--------------+------------------+------------------+-------+-------+-------+-------+-------+-------+-------+-------+-------+-------+------+------+------+------+------+------+------+------+------+-------+-------+-------+-------+-------+-------+-------+-------+-------+-------+-------+-------+-------+-------+-------+-------+-------+-------+-------+-------+------+------+------+------+------+\n",
            "|         Anhui|Mainland China|           31.8257|          117.2264|      1|      9|     15|     39|     60|     70|    106|    152|    200|    237|   297|   340|   408|   480|   530|   591|   665|   733|   779|    830|    860|    889|    910|    934|    950|    962|    973|    982|    986|    987|    988|    989|    989|    989|    989|    989|    989|    990|    990|   990|   990|   990|   990|   990|\n",
            "|       Beijing|Mainland China|           40.1824|          116.4142|     14|     22|     36|     41|     68|     80|     91|    111|    114|    139|   168|   191|   212|   228|   253|   274|   297|   315|   326|    337|    342|    352|    366|    372|    375|    380|    381|    387|    393|    395|    396|    399|    399|    399|    400|    400|    410|    410|    411|   413|   414|   414|   418|   418|\n",
            "|     Chongqing|Mainland China|           30.0572|           107.874|      6|      9|     27|     57|     75|    110|    132|    147|    182|    211|   247|   300|   337|   366|   389|   411|   426|   428|   468|    486|    505|    518|    529|    537|    544|    551|    553|    555|    560|    567|    572|    573|    575|    576|    576|    576|    576|    576|    576|   576|   576|   576|   576|   576|\n",
            "|        Fujian|Mainland China|           26.0789|          117.9874|      1|      5|     10|     18|     35|     59|     80|     84|    101|    120|   144|   159|   179|   194|   205|   215|   224|   239|   250|    261|    267|    272|    279|    281|    285|    287|    290|    292|    293|    293|    293|    293|    293|    293|    294|    294|    296|    296|    296|   296|   296|   296|   296|   296|\n",
            "|         Gansu|Mainland China|           36.0611|          103.8343|      0|      2|      2|      4|      7|     14|     19|     24|     26|     29|    40|    51|    55|    57|    62|    62|    67|    79|    83|     83|     86|     87|     90|     90|     90|     90|     91|     91|     91|     91|     91|     91|     91|     91|     91|     91|     91|     91|     91|    91|    91|    91|    91|   102|\n",
            "|     Guangdong|Mainland China|           23.3417|          113.4244|     26|     32|     53|     78|    111|    151|    207|    277|    354|    436|   535|   632|   725|   813|   895|   970|  1034|  1095|  1131|   1159|   1177|   1219|   1241|   1261|   1294|   1316|   1322|   1328|   1331|   1332|   1333|   1339|   1342|   1345|   1347|   1347|   1347|   1348|   1349|  1349|  1350|  1350|  1350|  1351|\n",
            "|       Guangxi|Mainland China|           23.8298|          108.7881|      2|      5|     23|     23|     36|     46|     51|     58|     78|     87|   100|   111|   127|   139|   150|   168|   172|   183|   195|    210|    215|    222|    222|    226|    235|    237|    238|    242|    244|    245|    246|    249|    249|    251|    252|    252|    252|    252|    252|   252|   252|   252|   252|   252|\n",
            "|       Guizhou|Mainland China|           26.8154|          106.8748|      1|      3|      3|      4|      5|      7|      9|      9|     12|     29|    29|    38|    46|    58|    64|    71|    81|    89|    99|    109|    127|    133|    135|    140|    143|    144|    146|    146|    146|    146|    146|    146|    146|    146|    146|    146|    146|    146|    146|   146|   146|   146|   146|   146|\n",
            "|        Hainan|Mainland China|           19.1959|          109.7453|      4|      5|      8|     19|     22|     33|     40|     43|     46|     52|    62|    64|    72|    80|    99|   106|   117|   124|   131|    138|    144|    157|    157|    159|    162|    162|    163|    163|    168|    168|    168|    168|    168|    168|    168|    168|    168|    168|    168|   168|   168|   168|   168|   168|\n",
            "|         Hebei|Mainland China|           38.0428|          114.5149|      1|      1|      2|      8|     13|     18|     33|     48|     65|     82|    96|   104|   113|   126|   135|   157|   172|   195|   206|    218|    239|    251|    265|    283|    291|    300|    301|    306|    306|    307|    308|    309|    311|    311|    311|    312|    317|    318|    318|   318|   318|   318|   318|   318|\n",
            "|  Heilongjiang|Mainland China|47.861999999999995|          127.7615|      0|      2|      4|      9|     15|     21|     33|     38|     44|     59|    80|    95|   121|   155|   190|   227|   277|   295|   307|    331|    360|    378|    395|    419|    425|    445|    457|    464|    470|    476|    479|    479|    480|    480|    480|    480|    480|    480|    480|   480|   480|   480|   480|   481|\n",
            "|         Henan|Mainland China|33.882020000000004|113.61399999999999|      5|      5|      9|     32|     83|    128|    168|    206|    278|    352|   422|   493|   566|   675|   764|   851|   914|   981|  1033|   1073|   1105|   1135|   1169|   1184|   1212|   1231|   1246|   1257|   1262|   1265|   1267|   1270|   1271|   1271|   1271|   1271|   1272|   1272|   1272|  1272|  1272|  1272|  1272|  1272|\n",
            "|         Hubei|Mainland China|           30.9756|          112.2707|    444|    444|    549|    761|   1058|   1423|   3554|   3554|   4903|   5806|  7153| 11177| 13522| 16678| 19665| 22112| 24953| 27100| 29631|  31728|  33366|  33366|  48206|  54406|  56249|  58182|  59989|  61682|  62031|  62442|  62662|  64084|  64084|  64287|  64786|  65187|  65596|  65914|  66337| 66907| 67103| 67217| 67332| 67466|\n",
            "|         Hunan|Mainland China|           27.6104|          111.7088|      4|      9|     24|     43|     69|    100|    143|    221|    277|    332|   389|   463|   521|   593|   661|   711|   772|   803|   838|    879|    912|    946|    968|    988|   1001|   1004|   1006|   1007|   1008|   1010|   1011|   1013|   1016|   1016|   1016|   1016|   1017|   1017|   1018|  1018|  1018|  1018|  1018|  1018|\n",
            "|Inner Mongolia|Mainland China|           44.0935|          113.9448|      0|      0|      1|      7|      7|     11|     15|     16|     19|     20|    23|    27|    34|    35|    42|    46|    50|    52|    54|     58|     58|     60|     61|     65|     68|     70|     72|     73|     75|     75|     75|     75|     75|     75|     75|     75|     75|     75|     75|    75|    75|    75|    75|    75|\n",
            "|       Jiangsu|Mainland China|           32.9711|           119.455|      1|      5|      9|     18|     33|     47|     70|     99|    129|    168|   202|   236|   271|   308|   341|   373|   408|   439|   468|    492|    515|    543|    570|    593|    604|    617|    626|    629|    631|    631|    631|    631|    631|    631|    631|    631|    631|    631|    631|   631|   631|   631|   631|   631|\n",
            "|       Jiangxi|Mainland China|            27.614|          115.7221|      2|      7|     18|     18|     36|     72|    109|    109|    162|    240|   286|   333|   391|   476|   548|   600|   661|   698|   740|    771|    804|    844|    872|    900|    913|    925|    930|    933|    934|    934|    934|    934|    934|    934|    934|    934|    934|    935|    935|   935|   935|   935|   935|   935|\n",
            "|         Jilin|Mainland China|           43.6661|          126.1923|      0|      1|      3|      4|      4|      6|      8|      9|     14|     14|    17|    23|    31|    42|    54|    59|    65|    69|    78|     80|     81|     83|     84|     86|     88|     89|     89|     89|     90|     91|     91|     91|     91|     93|     93|     93|     93|     93|     93|    93|    93|    93|    93|    93|\n",
            "|      Liaoning|Mainland China|           41.2956|          122.6085|      2|      3|      4|     17|     21|     27|     34|     39|     41|     48|    64|    70|    74|    81|    89|    94|    99|   105|   107|    108|    111|    116|    117|    119|    119|    121|    121|    121|    121|    121|    121|    121|    121|    121|    121|    121|    121|    121|    121|   122|   122|   125|   125|   125|\n",
            "|       Ningxia|Mainland China|           37.2692|          106.1655|      1|      1|      2|      3|      4|      7|     11|     12|     17|     21|    26|    28|    31|    34|    34|    40|    43|    45|    45|     49|     53|     58|     64|     67|     70|     70|     70|     70|     71|     71|     71|     71|     71|     71|     71|     71|     72|     72|     73|    73|    74|    74|    75|    75|\n",
            "+--------------+--------------+------------------+------------------+-------+-------+-------+-------+-------+-------+-------+-------+-------+-------+------+------+------+------+------+------+------+------+------+-------+-------+-------+-------+-------+-------+-------+-------+-------+-------+-------+-------+-------+-------+-------+-------+-------+-------+-------+-------+------+------+------+------+------+\n",
            "only showing top 20 rows\n",
            "\n"
          ],
          "name": "stdout"
        }
      ]
    },
    {
      "cell_type": "code",
      "metadata": {
        "id": "J3yMOYYtxl5x",
        "colab_type": "code",
        "colab": {}
      },
      "source": [
        "# Filter only the date and the locations\n",
        "confirmed_cases = confirmed.select('Province/State', 'Country/Region', col('3/5/20').alias(\"confirmed_cases\"))\n",
        "death_cases =deaths.select('Province/State', 'Country/Region', col('3/5/20').alias('death_cases'))\n",
        "recovered_cases = recovered.select('Province/State', 'Country/Region', col('3/5/20').alias('recovered_cases'))\n",
        "\n",
        "# Join the two lists\n",
        "joined = confirmed_cases.join(death_cases, ['Province/State', 'Country/Region'])\n",
        "joined = joined.join(recovered_cases, ['Province/State', 'Country/Region'])\n",
        "\n",
        "# Create a column called \"percent_recovered(%)\" to compute the percentage of recovered \n",
        "result = joined.withColumn(\"percent_recovered(%)\", f.round(joined.recovered_cases / joined.confirmed_cases * 100, 2))\n",
        "\n",
        "# Create a column called \"percent_deaths(%)\", to compute the percentage of deaths\n",
        "result = result.withColumn(\"percent_deaths(%)\", f.round(result.death_cases / result.confirmed_cases * 100, 2))\n",
        "\n"
      ],
      "execution_count": 75,
      "outputs": []
    },
    {
      "cell_type": "code",
      "metadata": {
        "id": "dQCckhXLxlTD",
        "colab_type": "code",
        "colab": {
          "base_uri": "https://localhost:8080/",
          "height": 459
        },
        "outputId": "771e873d-fa9e-4a3a-b86a-0932e9c72db1"
      },
      "source": [
        "# Show the result where the total confirmed cases is less than 50, and sort then in a descending order\n",
        "sort_recovered = result.filter(result.confirmed_cases < 50).sort(\"percent_recovered(%)\", ascending = False).show()\n"
      ],
      "execution_count": 81,
      "outputs": [
        {
          "output_type": "stream",
          "text": [
            "+--------------------+--------------+---------------+-----------+---------------+--------------------+-----------------+\n",
            "|      Province/State|Country/Region|confirmed_cases|death_cases|recovered_cases|percent_recovered(%)|percent_deaths(%)|\n",
            "+--------------------+--------------+---------------+-----------+---------------+--------------------+-----------------+\n",
            "|         Madison, WI|            US|              1|          0|              1|               100.0|              0.0|\n",
            "|             Qinghai|Mainland China|             18|          0|             18|               100.0|              0.0|\n",
            "|           Tempe, AZ|            US|              1|          0|              1|               100.0|              0.0|\n",
            "|          London, ON|        Canada|              1|          0|              1|               100.0|              0.0|\n",
            "|               Tibet|Mainland China|              1|          0|              1|               100.0|              0.0|\n",
            "|          Boston, MA|            US|              1|          0|              1|               100.0|              0.0|\n",
            "|               Macau|         Macau|             10|          0|              9|                90.0|              0.0|\n",
            "|            Victoria|     Australia|             10|          0|              7|                70.0|              0.0|\n",
            "|          Queensland|     Australia|             13|          0|              8|               61.54|              0.0|\n",
            "|     Cook County, IL|            US|              5|          0|              2|                40.0|              0.0|\n",
            "|     South Australia|     Australia|              5|          0|              2|                40.0|              0.0|\n",
            "|San Diego County, CA|            US|              3|          0|              1|               33.33|              0.0|\n",
            "|              Taiwan|        Taiwan|             44|          1|             12|               27.27|             2.27|\n",
            "|    British Columbia|        Canada|             13|          0|              3|               23.08|              0.0|\n",
            "|     New South Wales|     Australia|             22|          1|              4|               18.18|             4.55|\n",
            "|         Toronto, ON|        Canada|             21|          0|              2|                9.52|              0.0|\n",
            "|     Santa Clara, CA|            US|             20|          0|              1|                 5.0|              0.0|\n",
            "|  Grafton County, NH|            US|              2|          0|              0|                 0.0|              0.0|\n",
            "|    Hillsborough, FL|            US|              2|          0|              0|                 0.0|              0.0|\n",
            "| Humboldt County, CA|            US|              1|          0|              0|                 0.0|              0.0|\n",
            "+--------------------+--------------+---------------+-----------+---------------+--------------------+-----------------+\n",
            "only showing top 20 rows\n",
            "\n"
          ],
          "name": "stdout"
        }
      ]
    },
    {
      "cell_type": "code",
      "metadata": {
        "id": "aK6XAVj70ZZh",
        "colab_type": "code",
        "colab": {
          "base_uri": "https://localhost:8080/",
          "height": 459
        },
        "outputId": "b9ee2101-7d3f-489b-95f7-6bfb87793359"
      },
      "source": [
        "sort_deaths = result.filter(result.confirmed_cases < 50).sort(\"percent_deaths(%)\", ascending = False).show()\n"
      ],
      "execution_count": 82,
      "outputs": [
        {
          "output_type": "stream",
          "text": [
            "+--------------------+--------------+---------------+-----------+---------------+--------------------+-----------------+\n",
            "|      Province/State|Country/Region|confirmed_cases|death_cases|recovered_cases|percent_recovered(%)|percent_deaths(%)|\n",
            "+--------------------+--------------+---------------+-----------+---------------+--------------------+-----------------+\n",
            "|   Placer County, CA|            US|              2|          1|              0|                 0.0|             50.0|\n",
            "|   Western Australia|     Australia|              3|          1|              0|                 0.0|            33.33|\n",
            "|Snohomish County, WA|            US|             18|          1|              0|                 0.0|             5.56|\n",
            "|     New South Wales|     Australia|             22|          1|              4|               18.18|             4.55|\n",
            "|              Taiwan|        Taiwan|             44|          1|             12|               27.27|             2.27|\n",
            "|Unassigned Locati...|            US|             45|          0|              0|                 0.0|              0.0|\n",
            "| Humboldt County, CA|            US|              1|          0|              0|                 0.0|              0.0|\n",
            "|        Montreal, QC|        Canada|              2|          0|              0|                 0.0|              0.0|\n",
            "|             Qinghai|Mainland China|             18|          0|             18|               100.0|              0.0|\n",
            "|    British Columbia|        Canada|             13|          0|              3|               23.08|              0.0|\n",
            "|               Tibet|Mainland China|              1|          0|              1|               100.0|              0.0|\n",
            "|          Queensland|     Australia|             13|          0|              8|               61.54|              0.0|\n",
            "|     Santa Clara, CA|            US|             20|          0|              1|                 5.0|              0.0|\n",
            "|          Boston, MA|            US|              1|          0|              1|               100.0|              0.0|\n",
            "|         Madison, WI|            US|              1|          0|              1|               100.0|              0.0|\n",
            "|     Cook County, IL|            US|              5|          0|              2|                40.0|              0.0|\n",
            "|      Providence, RI|            US|              2|          0|              0|                 0.0|              0.0|\n",
            "|            Tasmania|     Australia|              1|          0|              0|                 0.0|              0.0|\n",
            "|  Grafton County, NH|            US|              2|          0|              0|                 0.0|              0.0|\n",
            "|    Hillsborough, FL|            US|              2|          0|              0|                 0.0|              0.0|\n",
            "+--------------------+--------------+---------------+-----------+---------------+--------------------+-----------------+\n",
            "only showing top 20 rows\n",
            "\n"
          ],
          "name": "stdout"
        }
      ]
    }
  ]
}